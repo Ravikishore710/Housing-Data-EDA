{
  "nbformat": 4,
  "nbformat_minor": 0,
  "metadata": {
    "colab": {
      "private_outputs": true,
      "provenance": [],
      "gpuType": "V28"
    },
    "kernelspec": {
      "name": "python3",
      "display_name": "Python 3"
    },
    "language_info": {
      "name": "python"
    },
    "accelerator": "TPU"
  },
  "cells": [
    {
      "cell_type": "code",
      "execution_count": null,
      "metadata": {
        "id": "NlBJOajzSDLB"
      },
      "outputs": [],
      "source": [
        "import pandas as pd\n",
        "url=\"https://raw.githubusercontent.com/ageron/data/main/housing/housing.csv\"\n",
        "housing=pd.read_csv(url)\n",
        "housing.head()"
      ]
    },
    {
      "cell_type": "code",
      "source": [
        "housing.info()"
      ],
      "metadata": {
        "id": "sAt951ycUu2G"
      },
      "execution_count": null,
      "outputs": []
    },
    {
      "cell_type": "code",
      "source": [
        "housing[\"ocean_proximity\"].value_counts()"
      ],
      "metadata": {
        "id": "WfH5CszAVn_u"
      },
      "execution_count": null,
      "outputs": []
    },
    {
      "cell_type": "code",
      "source": [
        "housing.describe()"
      ],
      "metadata": {
        "id": "zhv28OSxrfN9"
      },
      "execution_count": null,
      "outputs": []
    },
    {
      "cell_type": "code",
      "metadata": {
        "id": "2801af62"
      },
      "source": [
        "import seaborn as sns\n",
        "import matplotlib.pyplot as plt\n",
        "\n",
        "# Pairplot with hue based on ocean proximity\n",
        "sns.pairplot(housing, vars=[\"housing_median_age\", \"median_income\", \"median_house_value\"], hue=\"ocean_proximity\")\n",
        "plt.suptitle(\"Pairplot of Selected Features by Ocean Proximity\", y=1.02)\n",
        "plt.show()"
      ],
      "execution_count": null,
      "outputs": []
    },
    {
      "cell_type": "code",
      "source": [
        "import seaborn as sns\n",
        "target = \"median_house_value\"\n",
        "for col in numeric_features:\n",
        "    plt.figure(figsize=(10, 5))\n",
        "    plt.scatter(x=housing.index, y=housing[col], alpha=0.2, c='orange', edgecolor='k')\n",
        "    plt.title(f\"{col} Index vs Value\")\n",
        "    plt.xlabel(\"Index\")\n",
        "    plt.ylabel(col)\n",
        "    plt.grid(True)\n",
        "    plt.show()\n"
      ],
      "metadata": {
        "id": "Xc2qnRa7z7gD"
      },
      "execution_count": null,
      "outputs": []
    },
    {
      "cell_type": "code",
      "metadata": {
        "id": "de226bf1"
      },
      "source": [
        "import matplotlib.pyplot as plt\n",
        "import seaborn as sns\n",
        "\n",
        "# Joint plot of total rooms and total bedrooms\n",
        "sns.jointplot(x=\"total_rooms\", y=\"total_bedrooms\", data=housing, kind=\"reg\")\n",
        "plt.suptitle(\"Joint Plot of Total Rooms and Total Bedrooms\", y=1.02)\n",
        "plt.show()"
      ],
      "execution_count": null,
      "outputs": []
    },
    {
      "cell_type": "code",
      "metadata": {
        "id": "58f555e5"
      },
      "source": [
        "import matplotlib.pyplot as plt\n",
        "import seaborn as sns\n",
        "\n",
        "# Count plot of ocean_proximity\n",
        "plt.figure(figsize=(10, 6))\n",
        "sns.countplot(x=\"ocean_proximity\", data=housing)\n",
        "plt.title(\"Count of Houses by Ocean Proximity\")\n",
        "plt.xlabel(\"Ocean Proximity\")\n",
        "plt.ylabel(\"Count\")\n",
        "plt.grid(True)\n",
        "plt.show()"
      ],
      "execution_count": null,
      "outputs": []
    },
    {
      "cell_type": "code",
      "metadata": {
        "id": "1857d27d"
      },
      "source": [
        "import matplotlib.pyplot as plt\n",
        "import seaborn as sns\n",
        "\n",
        "# Scatter plot of population vs households\n",
        "plt.figure(figsize=(10, 6))\n",
        "sns.scatterplot(x=\"population\", y=\"households\", data=housing, alpha=0.3)\n",
        "plt.title(\"Population vs Households\")\n",
        "plt.xlabel(\"Population\")\n",
        "plt.ylabel(\"Households\")\n",
        "plt.grid(True)\n",
        "plt.show()"
      ],
      "execution_count": null,
      "outputs": []
    },
    {
      "cell_type": "code",
      "metadata": {
        "id": "01f12c82"
      },
      "source": [
        "import seaborn as sns\n",
        "import matplotlib.pyplot as plt\n",
        "\n",
        "# Ridgeline plot of median income by ocean proximity\n",
        "# You might need to install joypy for this plot: pip install joypy\n",
        "# import joypy as jp\n",
        "# fig, axes = jp.joyplot(housing, by=\"ocean_proximity\", column=\"median_income\", figsize=(10, 6), alpha=0.5)\n",
        "# plt.title(\"Ridgeline Plot of Median Income by Ocean Proximity\")\n",
        "# plt.show()\n",
        "\n",
        "# Alternative: FacetGrid with density plots\n",
        "g = sns.FacetGrid(housing, row=\"ocean_proximity\", height=2, aspect=4)\n",
        "g.map(sns.kdeplot, \"median_income\", fill=True)\n",
        "g.fig.suptitle(\"Density Plot of Median Income by Ocean Proximity\", y=1.02)\n",
        "plt.show()"
      ],
      "execution_count": null,
      "outputs": []
    },
    {
      "cell_type": "code",
      "source": [
        "from sklearn.impute import SimpleImputer\n",
        "from sklearn.pipeline import Pipeline\n",
        "from sklearn.compose import ColumnTransformer\n",
        "from sklearn.preprocessing import MinMaxScaler\n",
        "import pandas as pd\n",
        "\n",
        "# 1. Define features\n",
        "numeric_features = housing.select_dtypes(include=\"number\").columns.drop([\"latitude\", \"longitude\",\"median_house_value\"])\n",
        "categorical_features = housing.select_dtypes(include=\"object\").columns\n",
        "\n",
        "# 2. Manual encoder: build maps for each categorical column\n",
        "value_to_int_maps = {\n",
        "    col: {val: i for i, val in enumerate(housing[col].dropna().unique())}\n",
        "    for col in categorical_features\n",
        "}\n",
        "\n",
        "# 3. Replace categories with integers using mapping\n",
        "housing_encoded = housing.copy()\n",
        "for col in categorical_features:\n",
        "    housing_encoded[col] = housing[col].map(value_to_int_maps[col])\n",
        "\n",
        "# 4. Build transformers\n",
        "numeric_transformer = Pipeline(steps=[\n",
        "    (\"imputer\", SimpleImputer(strategy=\"median\")),\n",
        "    (\"scaler\", MinMaxScaler())\n",
        "])\n",
        "\n",
        "categorical_transformer = Pipeline(steps=[\n",
        "    (\"imputer\", SimpleImputer(strategy=\"most_frequent\"))\n",
        "    # No encoder here — already manually encoded\n",
        "])\n",
        "\n",
        "# 5. ColumnTransformer (now skips encoding)\n",
        "preprocessor = ColumnTransformer(transformers=[\n",
        "    (\"num\", numeric_transformer, numeric_features),\n",
        "    (\"cat\", categorical_transformer, categorical_features)\n",
        "])\n",
        "X_preprocessed = preprocessor.fit_transform(housing_encoded)\n",
        "X_preprocessed=pd.DataFrame(X_preprocessed,columns=numeric_features.tolist()+categorical_features.tolist())"
      ],
      "metadata": {
        "id": "QzxCY5R_R4Yw"
      },
      "execution_count": null,
      "outputs": []
    },
    {
      "cell_type": "code",
      "source": [
        "X_preprocessed.info()"
      ],
      "metadata": {
        "id": "EFpj3Ldtkggh"
      },
      "execution_count": null,
      "outputs": []
    },
    {
      "cell_type": "code",
      "source": [
        "# 7. Column names: no explosion now\n",
        "all_columns = list(numeric_features) + list(categorical_features)\n",
        "\n",
        "# 8. Final DataFrame\n",
        "data = pd.DataFrame(X_preprocessed, columns=all_columns)\n",
        "\n",
        "# 9. Add latitude and longitude\n",
        "lat_long = housing[[\"latitude\", \"longitude\",\"median_house_value\"]].reset_index(drop=True)\n",
        "data = pd.concat([data.reset_index(drop=True), lat_long], axis=1)\n",
        "\n",
        "# 10. Preview\n",
        "# for col in categorical_features:\n",
        "#     data[col] = data[col].round().astype(int).map(int_to_value_maps[col])\n",
        "\n",
        "print(data.head())\n"
      ],
      "metadata": {
        "id": "9K1HO26r8bbk"
      },
      "execution_count": null,
      "outputs": []
    },
    {
      "cell_type": "code",
      "source": [
        "# Define target\n",
        "target_column = \"median_house_value\"\n",
        "\n",
        "# X = all columns except the target\n",
        "X = data.drop(columns=[target_column])\n",
        "\n",
        "# y = target column\n",
        "y = data[target_column]\n"
      ],
      "metadata": {
        "id": "XlQLp1iBo70q"
      },
      "execution_count": null,
      "outputs": []
    }
  ]
}